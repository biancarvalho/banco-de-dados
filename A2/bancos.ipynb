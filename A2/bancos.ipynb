{
 "cells": [
  {
   "cell_type": "code",
   "execution_count": 1,
   "metadata": {},
   "outputs": [],
   "source": [
    "import sqlite3\n",
    "import os\n",
    "import pandas as pd\n",
    "import geopandas as gpd"
   ]
  },
  {
   "cell_type": "markdown",
   "metadata": {},
   "source": [
    "# Criando os bancos de dados"
   ]
  },
  {
   "cell_type": "markdown",
   "metadata": {},
   "source": [
    "## Municípios do Brasil"
   ]
  },
  {
   "cell_type": "code",
   "execution_count": 2,
   "metadata": {},
   "outputs": [],
   "source": [
    "conn = sqlite3.connect(os.path.join('brasil.db'))\n",
    "cur = conn.cursor()\n",
    "cur.execute('''CREATE TABLE IF NOT EXISTS brasil\n",
    "             ('id' INT NOT NULL,\n",
    "             'index' INT PRIMARY KEY NOT NULL,\n",
    "             'name' text, \n",
    "             'geometry' text)''')\n",
    "conn.commit()"
   ]
  },
  {
   "cell_type": "markdown",
   "metadata": {},
   "source": [
    "## Dados sobre o PIB de cada município"
   ]
  },
  {
   "cell_type": "code",
   "execution_count": 3,
   "metadata": {},
   "outputs": [],
   "source": [
    "conn1 = sqlite3.connect(os.path.join('pib.db'))\n",
    "cur1 = conn1.cursor()\n",
    "cur1.execute('''CREATE TABLE IF NOT EXISTS pib\n",
    "             ('id' INT NOT NULL,\n",
    "             'index' INT PRIMARY KEY NOT NULL,\n",
    "             'gid' INT,\n",
    "             'UF' text,\n",
    "             'nome' text,\n",
    "             'Censo' text,\n",
    "             'PIB' FLOAT,\n",
    "             'Pop_est_2009' FLOAT,\n",
    "             'PIB_percapita' FLOAT,\n",
    "             'Descrição' text,\n",
    "             'legenda' text,\n",
    "             'classe' INT,\n",
    "             'geometry' text)''')\n",
    "conn.commit()"
   ]
  }
 ],
 "metadata": {
  "kernelspec": {
   "display_name": "Python 3",
   "language": "python",
   "name": "python3"
  },
  "language_info": {
   "codemirror_mode": {
    "name": "ipython",
    "version": 3
   },
   "file_extension": ".py",
   "mimetype": "text/x-python",
   "name": "python",
   "nbconvert_exporter": "python",
   "pygments_lexer": "ipython3",
   "version": "3.8.5"
  }
 },
 "nbformat": 4,
 "nbformat_minor": 4
}
