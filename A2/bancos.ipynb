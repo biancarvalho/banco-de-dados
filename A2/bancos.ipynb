{
 "cells": [
  {
   "cell_type": "code",
   "execution_count": 2,
   "metadata": {},
   "outputs": [],
   "source": [
    "import sqlite3\n",
    "import os\n",
    "import pandas as pd\n",
    "import geopandas as gpd"
   ]
  },
  {
   "cell_type": "markdown",
   "metadata": {},
   "source": [
    "# Criando os bancos de dados"
   ]
  },
  {
   "cell_type": "markdown",
   "metadata": {},
   "source": [
    "## Dados sobre o PIB de cada município"
   ]
  },
  {
   "cell_type": "markdown",
   "metadata": {},
   "source": [
    "### Criando um DataFrame em GeoPandas que contém os dados do PIB nos municípios do Brasil"
   ]
  },
  {
   "cell_type": "code",
   "execution_count": 3,
   "metadata": {},
   "outputs": [
    {
     "name": "stdout",
     "output_type": "stream",
     "text": [
      "<class 'geopandas.geodataframe.GeoDataFrame'>\n"
     ]
    }
   ],
   "source": [
    "gpd_pib = gpd.read_file(\"pib.json\")\n",
    "gpd_pib = gpd_pib.drop(columns = 'Descrição') #descrição estava escrito \"produto interno bruto\" em todas as linhas\n",
    "print(type(gpd_pib))"
   ]
  },
  {
   "cell_type": "markdown",
   "metadata": {},
   "source": [
    "### Transformando em um DataFrame Pandas"
   ]
  },
  {
   "cell_type": "code",
   "execution_count": 4,
   "metadata": {},
   "outputs": [
    {
     "name": "stdout",
     "output_type": "stream",
     "text": [
      "<class 'pandas.core.frame.DataFrame'>\n"
     ]
    }
   ],
   "source": [
    "pd_pib = pd.DataFrame(gpd_pib)\n",
    "print(type(pd_pib))"
   ]
  },
  {
   "cell_type": "markdown",
   "metadata": {},
   "source": [
    "### Transformando o tipo dos dados da coluna geometria em string"
   ]
  },
  {
   "cell_type": "code",
   "execution_count": 5,
   "metadata": {},
   "outputs": [],
   "source": [
    "pd_pib['geometry']= pd_pib['geometry'].astype(str)"
   ]
  },
  {
   "cell_type": "markdown",
   "metadata": {},
   "source": [
    "### Fazendo a conexão com o sqlite para criar a base de dados com os municípios do Brasil"
   ]
  },
  {
   "cell_type": "code",
   "execution_count": 8,
   "metadata": {},
   "outputs": [],
   "source": [
    "conn = sqlite3.connect(os.path.join('pib.db'))\n",
    "cur = conn.cursor()\n",
    "cur.execute('''CREATE TABLE IF NOT EXISTS pib\n",
    "             ('id' INT NOT NULL,\n",
    "             'index' INT PRIMARY KEY NOT NULL,\n",
    "             'gid' INT,\n",
    "             'UF' text,\n",
    "             'nome' text,\n",
    "             'Censo' text,\n",
    "             'PIB' FLOAT,\n",
    "             'Pop_est_2009' FLOAT,\n",
    "             'PIB_percapita' FLOAT,\n",
    "             'legenda' text,\n",
    "             'classe' INT,\n",
    "             'geometry' text)''')\n",
    "conn.commit()"
   ]
  },
  {
   "cell_type": "markdown",
   "metadata": {},
   "source": [
    "### Adicionando os dados do DataFrame Pandas na tabela criada com o sqlite"
   ]
  },
  {
   "cell_type": "code",
   "execution_count": 9,
   "metadata": {},
   "outputs": [],
   "source": [
    "pd_pib.to_sql('pib', con=conn, if_exists='replace')\n",
    "conn.commit()"
   ]
  },
  {
   "cell_type": "markdown",
   "metadata": {},
   "source": [
    "# Dados raciais "
   ]
  },
  {
   "cell_type": "markdown",
   "metadata": {},
   "source": [
    "### Criando um DataFrame em GeoPandas que contém os dados raciais dos municípios do Brasil"
   ]
  },
  {
   "cell_type": "code",
   "execution_count": 10,
   "metadata": {},
   "outputs": [
    {
     "name": "stdout",
     "output_type": "stream",
     "text": [
      "<class 'geopandas.geodataframe.GeoDataFrame'>\n"
     ]
    }
   ],
   "source": [
    "gpd_racial = gpd.read_file('raciais.json')\n",
    "print(type(gpd_racial))"
   ]
  },
  {
   "cell_type": "markdown",
   "metadata": {},
   "source": [
    "### Transformando em um DataFrame Pandas"
   ]
  },
  {
   "cell_type": "code",
   "execution_count": 11,
   "metadata": {},
   "outputs": [
    {
     "name": "stdout",
     "output_type": "stream",
     "text": [
      "<class 'pandas.core.frame.DataFrame'>\n"
     ]
    }
   ],
   "source": [
    "pd_racial = pd.DataFrame(gpd_racial)\n",
    "print(type(pd_racial))"
   ]
  },
  {
   "cell_type": "markdown",
   "metadata": {},
   "source": [
    "### Transformando o tipo dos dados da coluna geometria em string"
   ]
  },
  {
   "cell_type": "code",
   "execution_count": 12,
   "metadata": {},
   "outputs": [],
   "source": [
    "pd_racial['geometry']= pd_racial['geometry'].astype(str)"
   ]
  },
  {
   "cell_type": "markdown",
   "metadata": {},
   "source": [
    "### Fazendo a conexão com o sqlite para criar a base de dados com os dados raciais"
   ]
  },
  {
   "cell_type": "code",
   "execution_count": 13,
   "metadata": {},
   "outputs": [],
   "source": [
    "conn = sqlite3.connect(os.path.join('racial.db'))\n",
    "cur = conn.cursor()\n",
    "cur.execute('''CREATE TABLE IF NOT EXISTS racial\n",
    "             ('id' INT NOT NULL,\n",
    "             'index' INT PRIMARY KEY NOT NULL,\n",
    "             'gid' INT,\n",
    "             'UF' text,\n",
    "             'nome' text,\n",
    "             'Censo' text,\n",
    "             'POP_TOT' FLOAT,\n",
    "             'Pessoas_Pretas' FLOAT,\n",
    "             'PER_Pessoas_Pretas' FLOAT,\n",
    "             'Descrição' text,\n",
    "             'legenda' text,\n",
    "             'classe' INT,\n",
    "             'geometry' text)''')\n",
    "conn.commit()"
   ]
  },
  {
   "cell_type": "markdown",
   "metadata": {},
   "source": [
    "### Adicionando os dados do DataFrame Pandas na tabela criada com o sqlite"
   ]
  },
  {
   "cell_type": "code",
   "execution_count": 14,
   "metadata": {},
   "outputs": [],
   "source": [
    "pd_racial.to_sql('racial', con=conn, if_exists='replace')\n",
    "conn.commit()"
   ]
  },
  {
   "cell_type": "markdown",
   "metadata": {},
   "source": [
    "## Dados sobre as eleições presidenciais 2010 de cada município\n"
   ]
  },
  {
   "cell_type": "markdown",
   "metadata": {},
   "source": [
    "### Criando um DataFrame em GeoPandas que contém os dados"
   ]
  },
  {
   "cell_type": "code",
   "execution_count": null,
   "metadata": {},
   "outputs": [],
   "source": []
  },
  {
   "cell_type": "code",
   "execution_count": null,
   "metadata": {},
   "outputs": [],
   "source": []
  },
  {
   "cell_type": "code",
   "execution_count": null,
   "metadata": {},
   "outputs": [],
   "source": []
  },
  {
   "cell_type": "code",
   "execution_count": null,
   "metadata": {},
   "outputs": [],
   "source": []
  }
 ],
 "metadata": {
  "kernelspec": {
   "display_name": "Python 3 (ipykernel)",
   "language": "python",
   "name": "python3"
  },
  "language_info": {
   "codemirror_mode": {
    "name": "ipython",
    "version": 3
   },
   "file_extension": ".py",
   "mimetype": "text/x-python",
   "name": "python",
   "nbconvert_exporter": "python",
   "pygments_lexer": "ipython3",
   "version": "3.8.12"
  }
 },
 "nbformat": 4,
 "nbformat_minor": 4
}
