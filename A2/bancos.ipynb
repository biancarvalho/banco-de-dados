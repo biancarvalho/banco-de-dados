{
 "cells": [
  {
   "cell_type": "code",
   "execution_count": 2,
   "metadata": {},
   "outputs": [],
   "source": [
    "import sqlite3\n",
    "import os\n",
    "import pandas as pd\n",
    "import geopandas as gpd"
   ]
  },
  {
   "cell_type": "markdown",
   "metadata": {},
   "source": [
    "# Criando os bancos de dados"
   ]
  },
  {
   "cell_type": "markdown",
   "metadata": {},
   "source": [
    "Escolhemos usar o sqlite pois tivemos problemas com o MongoBD por ser uma base muito grande e o sqlite funcionou muito bem. O sqlite não suporta dados geométricos, então transformamos as colunas de geometria em campos do tipo string e mudamos seu tipo apenas na hora de usar os dados para análise."
   ]
  },
  {
   "cell_type": "markdown",
   "metadata": {},
   "source": [
    "## Dados sobre o PIB de cada município"
   ]
  },
  {
   "cell_type": "markdown",
   "metadata": {},
   "source": [
    "### Criando um DataFrame em GeoPandas que contém os dados do PIB nos municípios do Brasil"
   ]
  },
  {
   "cell_type": "code",
   "execution_count": 9,
   "metadata": {},
   "outputs": [
    {
     "name": "stdout",
     "output_type": "stream",
     "text": [
      "<class 'geopandas.geodataframe.GeoDataFrame'>\n"
     ]
    }
   ],
   "source": [
    "gpd_pib = gpd.read_file(\"pib.json\")\n",
    "print(type(gpd_pib))\n",
    "gpd_pib.head(2)"
   ]
  },
  {
   "cell_type": "markdown",
   "metadata": {},
   "source": [
    "A base inteira tinha muitas colunas que não vamos usar para nada, então iremos pegar apenas as que nos interessam "
   ]
  },
  {
   "cell_type": "code",
   "execution_count": 10,
   "metadata": {},
   "outputs": [],
   "source": [
    "gpd_pib = gpd_pib[['gid','UF','nome','PIB','Pop_est_2009','PIB_percapita','geometry']]\n",
    "gpd_pib.head(2)"
   ]
  },
  {
   "cell_type": "markdown",
   "metadata": {},
   "source": [
    "### Transformando em um DataFrame Pandas"
   ]
  },
  {
   "cell_type": "code",
   "execution_count": 11,
   "metadata": {},
   "outputs": [
    {
     "name": "stdout",
     "output_type": "stream",
     "text": [
      "<class 'pandas.core.frame.DataFrame'>\n"
     ]
    }
   ],
   "source": [
    "pd_pib = pd.DataFrame(gpd_pib)\n",
    "print(type(pd_pib))"
   ]
  },
  {
   "cell_type": "markdown",
   "metadata": {},
   "source": [
    "### Transformando o tipo dos dados da coluna geometria em string"
   ]
  },
  {
   "cell_type": "code",
   "execution_count": 12,
   "metadata": {},
   "outputs": [],
   "source": [
    "pd_pib['geometry']= pd_pib['geometry'].astype(str)"
   ]
  },
  {
   "cell_type": "markdown",
   "metadata": {},
   "source": [
    "### Fazendo a conexão com o sqlite para criar a base de dados com os municípios do Brasil"
   ]
  },
  {
   "cell_type": "code",
   "execution_count": 13,
   "metadata": {},
   "outputs": [],
   "source": [
    "conn = sqlite3.connect(os.path.join('BancosA2.db'))"
   ]
  },
  {
   "cell_type": "code",
   "execution_count": 14,
   "metadata": {},
   "outputs": [],
   "source": [
    "cur = conn.cursor()\n",
    "cur.execute('''CREATE TABLE IF NOT EXISTS pib\n",
    "             ('gid' INT PRIMARY KEY NOT NULL,\n",
    "             'UF' text,\n",
    "             'nome' text,\n",
    "             'PIB' FLOAT,\n",
    "             'Pop_est_2009' FLOAT,\n",
    "             'PIB_percapita' FLOAT,\n",
    "             'geometry' text)''')\n",
    "conn.commit()"
   ]
  },
  {
   "cell_type": "markdown",
   "metadata": {},
   "source": [
    "### Adicionando os dados do DataFrame Pandas na tabela criada com o sqlite"
   ]
  },
  {
   "cell_type": "code",
   "execution_count": 15,
   "metadata": {},
   "outputs": [],
   "source": [
    "pd_pib.to_sql('pib', con=conn, if_exists='replace')\n",
    "conn.commit()"
   ]
  },
  {
   "cell_type": "markdown",
   "metadata": {},
   "source": [
    "# Dados raciais "
   ]
  },
  {
   "cell_type": "markdown",
   "metadata": {},
   "source": [
    "### Criando um DataFrame em GeoPandas que contém os dados raciais dos municípios do Brasil"
   ]
  },
  {
   "cell_type": "code",
   "execution_count": 19,
   "metadata": {},
   "outputs": [
    {
     "name": "stdout",
     "output_type": "stream",
     "text": [
      "<class 'geopandas.geodataframe.GeoDataFrame'>\n"
     ]
    },
    {
     "data": {
      "text/html": [
       "<div>\n",
       "<style scoped>\n",
       "    .dataframe tbody tr th:only-of-type {\n",
       "        vertical-align: middle;\n",
       "    }\n",
       "\n",
       "    .dataframe tbody tr th {\n",
       "        vertical-align: top;\n",
       "    }\n",
       "\n",
       "    .dataframe thead th {\n",
       "        text-align: right;\n",
       "    }\n",
       "</style>\n",
       "<table border=\"1\" class=\"dataframe\">\n",
       "  <thead>\n",
       "    <tr style=\"text-align: right;\">\n",
       "      <th></th>\n",
       "      <th>id</th>\n",
       "      <th>gid</th>\n",
       "      <th>UF</th>\n",
       "      <th>nome</th>\n",
       "      <th>Censo</th>\n",
       "      <th>POP_TOT</th>\n",
       "      <th>Pessoas_Pretas</th>\n",
       "      <th>PER_Pessoas_Pretas</th>\n",
       "      <th>descricao</th>\n",
       "      <th>legenda</th>\n",
       "      <th>classe</th>\n",
       "      <th>geometry</th>\n",
       "    </tr>\n",
       "  </thead>\n",
       "  <tbody>\n",
       "    <tr>\n",
       "      <th>0</th>\n",
       "      <td>vw_per_pessoas_pretas.fid-60efe8e1_17d582643c1...</td>\n",
       "      <td>215</td>\n",
       "      <td>BAHIA</td>\n",
       "      <td>Tremedal</td>\n",
       "      <td>2010</td>\n",
       "      <td>17029.0</td>\n",
       "      <td>827</td>\n",
       "      <td>4.856421</td>\n",
       "      <td>Percentual de pessoas residentes de cor ou raç...</td>\n",
       "      <td>4,22% - 7,79%</td>\n",
       "      <td>2</td>\n",
       "      <td>MULTIPOLYGON (((-41.45880 -14.78142, -41.45497...</td>\n",
       "    </tr>\n",
       "    <tr>\n",
       "      <th>1</th>\n",
       "      <td>vw_per_pessoas_pretas.fid-60efe8e1_17d582643c1...</td>\n",
       "      <td>306</td>\n",
       "      <td>RIO GRANDE DO SUL</td>\n",
       "      <td>Turuçu</td>\n",
       "      <td>2010</td>\n",
       "      <td>3522.0</td>\n",
       "      <td>133</td>\n",
       "      <td>3.776264</td>\n",
       "      <td>Percentual de pessoas residentes de cor ou raç...</td>\n",
       "      <td>- 4,22%</td>\n",
       "      <td>1</td>\n",
       "      <td>MULTIPOLYGON (((-52.03535 -31.56751, -52.04061...</td>\n",
       "    </tr>\n",
       "  </tbody>\n",
       "</table>\n",
       "</div>"
      ],
      "text/plain": [
       "                                                  id  gid                 UF  \\\n",
       "0  vw_per_pessoas_pretas.fid-60efe8e1_17d582643c1...  215              BAHIA   \n",
       "1  vw_per_pessoas_pretas.fid-60efe8e1_17d582643c1...  306  RIO GRANDE DO SUL   \n",
       "\n",
       "       nome Censo  POP_TOT  Pessoas_Pretas  PER_Pessoas_Pretas  \\\n",
       "0  Tremedal  2010  17029.0             827            4.856421   \n",
       "1    Turuçu  2010   3522.0             133            3.776264   \n",
       "\n",
       "                                           descricao        legenda  classe  \\\n",
       "0  Percentual de pessoas residentes de cor ou raç...  4,22% - 7,79%       2   \n",
       "1  Percentual de pessoas residentes de cor ou raç...        - 4,22%       1   \n",
       "\n",
       "                                            geometry  \n",
       "0  MULTIPOLYGON (((-41.45880 -14.78142, -41.45497...  \n",
       "1  MULTIPOLYGON (((-52.03535 -31.56751, -52.04061...  "
      ]
     },
     "execution_count": 19,
     "metadata": {},
     "output_type": "execute_result"
    }
   ],
   "source": [
    "gpd_racial = gpd.read_file('raciais.json')\n",
    "print(type(gpd_racial))\n",
    "gpd_racial.head(2)"
   ]
  },
  {
   "cell_type": "code",
   "execution_count": 20,
   "metadata": {},
   "outputs": [
    {
     "data": {
      "text/html": [
       "<div>\n",
       "<style scoped>\n",
       "    .dataframe tbody tr th:only-of-type {\n",
       "        vertical-align: middle;\n",
       "    }\n",
       "\n",
       "    .dataframe tbody tr th {\n",
       "        vertical-align: top;\n",
       "    }\n",
       "\n",
       "    .dataframe thead th {\n",
       "        text-align: right;\n",
       "    }\n",
       "</style>\n",
       "<table border=\"1\" class=\"dataframe\">\n",
       "  <thead>\n",
       "    <tr style=\"text-align: right;\">\n",
       "      <th></th>\n",
       "      <th>gid</th>\n",
       "      <th>UF</th>\n",
       "      <th>nome</th>\n",
       "      <th>POP_TOT</th>\n",
       "      <th>Pessoas_Pretas</th>\n",
       "      <th>PER_Pessoas_Pretas</th>\n",
       "      <th>geometry</th>\n",
       "    </tr>\n",
       "  </thead>\n",
       "  <tbody>\n",
       "    <tr>\n",
       "      <th>0</th>\n",
       "      <td>215</td>\n",
       "      <td>BAHIA</td>\n",
       "      <td>Tremedal</td>\n",
       "      <td>17029.0</td>\n",
       "      <td>827</td>\n",
       "      <td>4.856421</td>\n",
       "      <td>MULTIPOLYGON (((-41.45880 -14.78142, -41.45497...</td>\n",
       "    </tr>\n",
       "    <tr>\n",
       "      <th>1</th>\n",
       "      <td>306</td>\n",
       "      <td>RIO GRANDE DO SUL</td>\n",
       "      <td>Turuçu</td>\n",
       "      <td>3522.0</td>\n",
       "      <td>133</td>\n",
       "      <td>3.776264</td>\n",
       "      <td>MULTIPOLYGON (((-52.03535 -31.56751, -52.04061...</td>\n",
       "    </tr>\n",
       "  </tbody>\n",
       "</table>\n",
       "</div>"
      ],
      "text/plain": [
       "   gid                 UF      nome  POP_TOT  Pessoas_Pretas  \\\n",
       "0  215              BAHIA  Tremedal  17029.0             827   \n",
       "1  306  RIO GRANDE DO SUL    Turuçu   3522.0             133   \n",
       "\n",
       "   PER_Pessoas_Pretas                                           geometry  \n",
       "0            4.856421  MULTIPOLYGON (((-41.45880 -14.78142, -41.45497...  \n",
       "1            3.776264  MULTIPOLYGON (((-52.03535 -31.56751, -52.04061...  "
      ]
     },
     "execution_count": 20,
     "metadata": {},
     "output_type": "execute_result"
    }
   ],
   "source": [
    "gpd_racial = gpd_racial[['gid','UF','nome','POP_TOT','Pessoas_Pretas','PER_Pessoas_Pretas','geometry']]\n",
    "gpd_racial.head(2)"
   ]
  },
  {
   "cell_type": "markdown",
   "metadata": {},
   "source": [
    "### Transformando em um DataFrame Pandas"
   ]
  },
  {
   "cell_type": "code",
   "execution_count": 21,
   "metadata": {},
   "outputs": [
    {
     "name": "stdout",
     "output_type": "stream",
     "text": [
      "<class 'pandas.core.frame.DataFrame'>\n"
     ]
    }
   ],
   "source": [
    "pd_racial = pd.DataFrame(gpd_racial)\n",
    "print(type(pd_racial))"
   ]
  },
  {
   "cell_type": "markdown",
   "metadata": {},
   "source": [
    "### Transformando o tipo dos dados da coluna geometria em string"
   ]
  },
  {
   "cell_type": "code",
   "execution_count": 22,
   "metadata": {},
   "outputs": [],
   "source": [
    "pd_racial['geometry']= pd_racial['geometry'].astype(str)"
   ]
  },
  {
   "cell_type": "markdown",
   "metadata": {},
   "source": [
    "### Fazendo a conexão com o sqlite para criar a base de dados com os dados raciais"
   ]
  },
  {
   "cell_type": "code",
   "execution_count": 23,
   "metadata": {},
   "outputs": [],
   "source": [
    "cur = conn.cursor()\n",
    "cur.execute('''CREATE TABLE IF NOT EXISTS racial\n",
    "             ('gid'  INT PRIMARY KEY NOT NULL,\n",
    "             'UF' text,\n",
    "             'nome' text,\n",
    "             'POP_TOT' FLOAT,\n",
    "             'Pessoas_Pretas' FLOAT,\n",
    "             'PER_Pessoas_Pretas' FLOAT,\n",
    "             'geometry' text)''')\n",
    "conn.commit()"
   ]
  },
  {
   "cell_type": "markdown",
   "metadata": {},
   "source": [
    "### Adicionando os dados do DataFrame Pandas na tabela criada com o sqlite"
   ]
  },
  {
   "cell_type": "code",
   "execution_count": 24,
   "metadata": {},
   "outputs": [],
   "source": [
    "pd_racial.to_sql('racial', con=conn, if_exists='replace')\n",
    "conn.commit()"
   ]
  },
  {
   "cell_type": "markdown",
   "metadata": {},
   "source": [
    "Fechando a conexão apenas após todas as operações com o banco de dados."
   ]
  },
  {
   "cell_type": "code",
   "execution_count": 25,
   "metadata": {},
   "outputs": [],
   "source": [
    "conn.close()"
   ]
  }
 ],
 "metadata": {
  "kernelspec": {
   "display_name": "Python 3 (ipykernel)",
   "language": "python",
   "name": "python3"
  },
  "language_info": {
   "codemirror_mode": {
    "name": "ipython",
    "version": 3
   },
   "file_extension": ".py",
   "mimetype": "text/x-python",
   "name": "python",
   "nbconvert_exporter": "python",
   "pygments_lexer": "ipython3",
   "version": "3.8.12"
  }
 },
 "nbformat": 4,
 "nbformat_minor": 4
}
