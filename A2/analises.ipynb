{
 "cells": [
  {
   "cell_type": "code",
   "execution_count": 1,
   "metadata": {},
   "outputs": [],
   "source": [
    "import geopandas as gpd\n",
    "import pandas as pd\n",
    "import sqlite3\n",
    "import os"
   ]
  },
  {
   "cell_type": "markdown",
   "metadata": {},
   "source": [
    "# Importando os bancos de dados"
   ]
  },
  {
   "cell_type": "code",
   "execution_count": 2,
   "metadata": {},
   "outputs": [
    {
     "data": {
      "text/plain": [
       "pandas.core.frame.DataFrame"
      ]
     },
     "execution_count": 2,
     "metadata": {},
     "output_type": "execute_result"
    }
   ],
   "source": [
    "conn = sqlite3.connect(os.path.join('brasil.db'))\n",
    "br = pd.read_sql('SELECT id, name, geometry FROM brasil', conn)\n",
    "type(br)"
   ]
  },
  {
   "cell_type": "code",
   "execution_count": 3,
   "metadata": {},
   "outputs": [
    {
     "data": {
      "text/plain": [
       "pandas.core.frame.DataFrame"
      ]
     },
     "execution_count": 3,
     "metadata": {},
     "output_type": "execute_result"
    }
   ],
   "source": [
    "conn1 = sqlite3.connect(os.path.join('pib.db'))\n",
    "pib = pd.read_sql('SELECT gid, UF, nome, Censo, PIB, Pop_est_2009, PIB_percapita, classe, geometry FROM pib', conn1)\n",
    "type(pib)"
   ]
  },
  {
   "cell_type": "code",
   "execution_count": 4,
   "metadata": {},
   "outputs": [
    {
     "data": {
      "text/plain": [
       "pandas.core.frame.DataFrame"
      ]
     },
     "execution_count": 4,
     "metadata": {},
     "output_type": "execute_result"
    }
   ],
   "source": [
    "conn2 = sqlite3.connect(os.path.join('racial.db'))\n",
    "racial = pd.read_sql('SELECT gid, UF, nome, Censo, POP_TOT, Pessoas_Pretas, PER_Pessoas_Pretas, classe, geometry FROM racial', conn2)\n",
    "type(racial)"
   ]
  },
  {
   "cell_type": "markdown",
   "metadata": {},
   "source": [
    "### Transformando os DataFrames para o tipo GeoDataFrame"
   ]
  },
  {
   "cell_type": "code",
   "execution_count": 5,
   "metadata": {},
   "outputs": [],
   "source": [
    "br = gpd.GeoDataFrame(br)"
   ]
  },
  {
   "cell_type": "code",
   "execution_count": 6,
   "metadata": {},
   "outputs": [],
   "source": [
    "pib = gpd.GeoDataFrame(pib)"
   ]
  },
  {
   "cell_type": "code",
   "execution_count": 7,
   "metadata": {},
   "outputs": [],
   "source": [
    "racial = gpd.GeoDataFrame(racial)"
   ]
  },
  {
   "cell_type": "markdown",
   "metadata": {},
   "source": [
    "## Tratando os dados"
   ]
  },
  {
   "cell_type": "code",
   "execution_count": 8,
   "metadata": {},
   "outputs": [
    {
     "data": {
      "text/html": [
       "<div>\n",
       "<style scoped>\n",
       "    .dataframe tbody tr th:only-of-type {\n",
       "        vertical-align: middle;\n",
       "    }\n",
       "\n",
       "    .dataframe tbody tr th {\n",
       "        vertical-align: top;\n",
       "    }\n",
       "\n",
       "    .dataframe thead th {\n",
       "        text-align: right;\n",
       "    }\n",
       "</style>\n",
       "<table border=\"1\" class=\"dataframe\">\n",
       "  <thead>\n",
       "    <tr style=\"text-align: right;\">\n",
       "      <th></th>\n",
       "      <th>id</th>\n",
       "      <th>name</th>\n",
       "      <th>geometry</th>\n",
       "    </tr>\n",
       "  </thead>\n",
       "  <tbody>\n",
       "    <tr>\n",
       "      <th>5317</th>\n",
       "      <td>5200050</td>\n",
       "      <td>Abadia De Goiás</td>\n",
       "      <td>POLYGON ((-49.4116188754 -16.7404731638, -49.4...</td>\n",
       "    </tr>\n",
       "    <tr>\n",
       "      <th>2242</th>\n",
       "      <td>3100104</td>\n",
       "      <td>Abadia Dos Dourados</td>\n",
       "      <td>POLYGON ((-47.4440984617 -18.1584651772, -47.4...</td>\n",
       "    </tr>\n",
       "    <tr>\n",
       "      <th>5318</th>\n",
       "      <td>5200100</td>\n",
       "      <td>Abadiânia</td>\n",
       "      <td>POLYGON ((-48.8413680012 -16.0044227658, -48.7...</td>\n",
       "    </tr>\n",
       "    <tr>\n",
       "      <th>151</th>\n",
       "      <td>1500107</td>\n",
       "      <td>Abaetetuba</td>\n",
       "      <td>POLYGON ((-48.8124539972 -1.6016538932, -48.80...</td>\n",
       "    </tr>\n",
       "    <tr>\n",
       "      <th>2243</th>\n",
       "      <td>3100203</td>\n",
       "      <td>Abaeté</td>\n",
       "      <td>POLYGON ((-45.1820043274 -18.8875672971, -45.1...</td>\n",
       "    </tr>\n",
       "  </tbody>\n",
       "</table>\n",
       "</div>"
      ],
      "text/plain": [
       "           id                 name  \\\n",
       "5317  5200050      Abadia De Goiás   \n",
       "2242  3100104  Abadia Dos Dourados   \n",
       "5318  5200100            Abadiânia   \n",
       "151   1500107           Abaetetuba   \n",
       "2243  3100203               Abaeté   \n",
       "\n",
       "                                               geometry  \n",
       "5317  POLYGON ((-49.4116188754 -16.7404731638, -49.4...  \n",
       "2242  POLYGON ((-47.4440984617 -18.1584651772, -47.4...  \n",
       "5318  POLYGON ((-48.8413680012 -16.0044227658, -48.7...  \n",
       "151   POLYGON ((-48.8124539972 -1.6016538932, -48.80...  \n",
       "2243  POLYGON ((-45.1820043274 -18.8875672971, -45.1...  "
      ]
     },
     "execution_count": 8,
     "metadata": {},
     "output_type": "execute_result"
    }
   ],
   "source": [
    "br = br.sort_values('name')\n",
    "br['name'] = br['name'].str.title()\n",
    "br.head()"
   ]
  },
  {
   "cell_type": "code",
   "execution_count": 9,
   "metadata": {},
   "outputs": [
    {
     "data": {
      "text/html": [
       "<div>\n",
       "<style scoped>\n",
       "    .dataframe tbody tr th:only-of-type {\n",
       "        vertical-align: middle;\n",
       "    }\n",
       "\n",
       "    .dataframe tbody tr th {\n",
       "        vertical-align: top;\n",
       "    }\n",
       "\n",
       "    .dataframe thead th {\n",
       "        text-align: right;\n",
       "    }\n",
       "</style>\n",
       "<table border=\"1\" class=\"dataframe\">\n",
       "  <thead>\n",
       "    <tr style=\"text-align: right;\">\n",
       "      <th></th>\n",
       "      <th>gid</th>\n",
       "      <th>UF</th>\n",
       "      <th>nome</th>\n",
       "      <th>Censo</th>\n",
       "      <th>PIB</th>\n",
       "      <th>Pop_est_2009</th>\n",
       "      <th>PIB_percapita</th>\n",
       "      <th>geometry</th>\n",
       "    </tr>\n",
       "  </thead>\n",
       "  <tbody>\n",
       "    <tr>\n",
       "      <th>4229</th>\n",
       "      <td>254</td>\n",
       "      <td>SERGIPE</td>\n",
       "      <td>Arauá</td>\n",
       "      <td>2010</td>\n",
       "      <td>63633.420</td>\n",
       "      <td>12042.0</td>\n",
       "      <td>5284.29</td>\n",
       "      <td>MULTIPOLYGON (((-37.50771009 -11.27150952, -37...</td>\n",
       "    </tr>\n",
       "    <tr>\n",
       "      <th>3330</th>\n",
       "      <td>1076</td>\n",
       "      <td>GOIÁS</td>\n",
       "      <td>Abadia De Goiás</td>\n",
       "      <td>2010</td>\n",
       "      <td>38975.133</td>\n",
       "      <td>6301.0</td>\n",
       "      <td>6185.55</td>\n",
       "      <td>MULTIPOLYGON (((-49.4433195 -16.72349495, -49....</td>\n",
       "    </tr>\n",
       "    <tr>\n",
       "      <th>3492</th>\n",
       "      <td>2687</td>\n",
       "      <td>MINAS GERAIS</td>\n",
       "      <td>Abadia Dos Dourados</td>\n",
       "      <td>2010</td>\n",
       "      <td>71222.170</td>\n",
       "      <td>6805.0</td>\n",
       "      <td>10466.15</td>\n",
       "      <td>MULTIPOLYGON (((-47.42610987 -18.16379816, -47...</td>\n",
       "    </tr>\n",
       "    <tr>\n",
       "      <th>3976</th>\n",
       "      <td>1077</td>\n",
       "      <td>GOIÁS</td>\n",
       "      <td>Abadiânia</td>\n",
       "      <td>2010</td>\n",
       "      <td>82400.490</td>\n",
       "      <td>13378.0</td>\n",
       "      <td>6159.40</td>\n",
       "      <td>MULTIPOLYGON (((-48.79593567 -16.01553113, -48...</td>\n",
       "    </tr>\n",
       "    <tr>\n",
       "      <th>2115</th>\n",
       "      <td>2138</td>\n",
       "      <td>PARÁ</td>\n",
       "      <td>Abaetetuba</td>\n",
       "      <td>2010</td>\n",
       "      <td>456256.940</td>\n",
       "      <td>139819.0</td>\n",
       "      <td>3263.20</td>\n",
       "      <td>MULTIPOLYGON (((-48.80042608 -1.60628755, -48....</td>\n",
       "    </tr>\n",
       "  </tbody>\n",
       "</table>\n",
       "</div>"
      ],
      "text/plain": [
       "       gid            UF                 nome Censo         PIB  Pop_est_2009  \\\n",
       "4229   254       SERGIPE                Arauá  2010   63633.420       12042.0   \n",
       "3330  1076         GOIÁS      Abadia De Goiás  2010   38975.133        6301.0   \n",
       "3492  2687  MINAS GERAIS  Abadia Dos Dourados  2010   71222.170        6805.0   \n",
       "3976  1077         GOIÁS            Abadiânia  2010   82400.490       13378.0   \n",
       "2115  2138          PARÁ           Abaetetuba  2010  456256.940      139819.0   \n",
       "\n",
       "      PIB_percapita                                           geometry  \n",
       "4229        5284.29  MULTIPOLYGON (((-37.50771009 -11.27150952, -37...  \n",
       "3330        6185.55  MULTIPOLYGON (((-49.4433195 -16.72349495, -49....  \n",
       "3492       10466.15  MULTIPOLYGON (((-47.42610987 -18.16379816, -47...  \n",
       "3976        6159.40  MULTIPOLYGON (((-48.79593567 -16.01553113, -48...  \n",
       "2115        3263.20  MULTIPOLYGON (((-48.80042608 -1.60628755, -48....  "
      ]
     },
     "execution_count": 9,
     "metadata": {},
     "output_type": "execute_result"
    }
   ],
   "source": [
    "pib = pib.sort_values('nome')\n",
    "pib['nome'] = pib['nome'].str.title()\n",
    "pib = pib.drop('classe', 1)\n",
    "pib.head()"
   ]
  },
  {
   "cell_type": "code",
   "execution_count": 10,
   "metadata": {},
   "outputs": [
    {
     "data": {
      "text/html": [
       "<div>\n",
       "<style scoped>\n",
       "    .dataframe tbody tr th:only-of-type {\n",
       "        vertical-align: middle;\n",
       "    }\n",
       "\n",
       "    .dataframe tbody tr th {\n",
       "        vertical-align: top;\n",
       "    }\n",
       "\n",
       "    .dataframe thead th {\n",
       "        text-align: right;\n",
       "    }\n",
       "</style>\n",
       "<table border=\"1\" class=\"dataframe\">\n",
       "  <thead>\n",
       "    <tr style=\"text-align: right;\">\n",
       "      <th></th>\n",
       "      <th>gid</th>\n",
       "      <th>UF</th>\n",
       "      <th>nome</th>\n",
       "      <th>Censo</th>\n",
       "      <th>POP_TOT</th>\n",
       "      <th>Pessoas_Pretas</th>\n",
       "      <th>PER_Pessoas_Pretas</th>\n",
       "      <th>geometry</th>\n",
       "    </tr>\n",
       "  </thead>\n",
       "  <tbody>\n",
       "    <tr>\n",
       "      <th>4229</th>\n",
       "      <td>254</td>\n",
       "      <td>SERGIPE</td>\n",
       "      <td>Arauá</td>\n",
       "      <td>2010</td>\n",
       "      <td>10878.0</td>\n",
       "      <td>1525</td>\n",
       "      <td>14.019121</td>\n",
       "      <td>MULTIPOLYGON (((-37.50771009 -11.27150952, -37...</td>\n",
       "    </tr>\n",
       "    <tr>\n",
       "      <th>3330</th>\n",
       "      <td>1076</td>\n",
       "      <td>GOIÁS</td>\n",
       "      <td>Abadia De Goiás</td>\n",
       "      <td>2010</td>\n",
       "      <td>6876.0</td>\n",
       "      <td>405</td>\n",
       "      <td>5.890052</td>\n",
       "      <td>MULTIPOLYGON (((-49.4433195 -16.72349495, -49....</td>\n",
       "    </tr>\n",
       "    <tr>\n",
       "      <th>3492</th>\n",
       "      <td>2687</td>\n",
       "      <td>MINAS GERAIS</td>\n",
       "      <td>Abadia Dos Dourados</td>\n",
       "      <td>2010</td>\n",
       "      <td>6704.0</td>\n",
       "      <td>292</td>\n",
       "      <td>4.355608</td>\n",
       "      <td>MULTIPOLYGON (((-47.42610987 -18.16379816, -47...</td>\n",
       "    </tr>\n",
       "    <tr>\n",
       "      <th>3976</th>\n",
       "      <td>1077</td>\n",
       "      <td>GOIÁS</td>\n",
       "      <td>Abadiânia</td>\n",
       "      <td>2010</td>\n",
       "      <td>15757.0</td>\n",
       "      <td>664</td>\n",
       "      <td>4.214000</td>\n",
       "      <td>MULTIPOLYGON (((-48.79593567 -16.01553113, -48...</td>\n",
       "    </tr>\n",
       "    <tr>\n",
       "      <th>2115</th>\n",
       "      <td>2138</td>\n",
       "      <td>PARÁ</td>\n",
       "      <td>Abaetetuba</td>\n",
       "      <td>2010</td>\n",
       "      <td>141100.0</td>\n",
       "      <td>9038</td>\n",
       "      <td>6.405386</td>\n",
       "      <td>MULTIPOLYGON (((-48.80042608 -1.60628755, -48....</td>\n",
       "    </tr>\n",
       "  </tbody>\n",
       "</table>\n",
       "</div>"
      ],
      "text/plain": [
       "       gid            UF                 nome Censo   POP_TOT  Pessoas_Pretas  \\\n",
       "4229   254       SERGIPE                Arauá  2010   10878.0            1525   \n",
       "3330  1076         GOIÁS      Abadia De Goiás  2010    6876.0             405   \n",
       "3492  2687  MINAS GERAIS  Abadia Dos Dourados  2010    6704.0             292   \n",
       "3976  1077         GOIÁS            Abadiânia  2010   15757.0             664   \n",
       "2115  2138          PARÁ           Abaetetuba  2010  141100.0            9038   \n",
       "\n",
       "      PER_Pessoas_Pretas                                           geometry  \n",
       "4229           14.019121  MULTIPOLYGON (((-37.50771009 -11.27150952, -37...  \n",
       "3330            5.890052  MULTIPOLYGON (((-49.4433195 -16.72349495, -49....  \n",
       "3492            4.355608  MULTIPOLYGON (((-47.42610987 -18.16379816, -47...  \n",
       "3976            4.214000  MULTIPOLYGON (((-48.79593567 -16.01553113, -48...  \n",
       "2115            6.405386  MULTIPOLYGON (((-48.80042608 -1.60628755, -48....  "
      ]
     },
     "execution_count": 10,
     "metadata": {},
     "output_type": "execute_result"
    }
   ],
   "source": [
    "racial = racial.sort_values('nome')\n",
    "racial['nome'] = racial['nome'].str.title()\n",
    "racial = racial.drop('classe', 1)\n",
    "racial.head()"
   ]
  },
  {
   "cell_type": "markdown",
   "metadata": {},
   "source": [
    "### Unindo os Dataframes sobre o PIB e a população negra"
   ]
  },
  {
   "cell_type": "code",
   "execution_count": 11,
   "metadata": {},
   "outputs": [
    {
     "data": {
      "text/html": [
       "<div>\n",
       "<style scoped>\n",
       "    .dataframe tbody tr th:only-of-type {\n",
       "        vertical-align: middle;\n",
       "    }\n",
       "\n",
       "    .dataframe tbody tr th {\n",
       "        vertical-align: top;\n",
       "    }\n",
       "\n",
       "    .dataframe thead th {\n",
       "        text-align: right;\n",
       "    }\n",
       "</style>\n",
       "<table border=\"1\" class=\"dataframe\">\n",
       "  <thead>\n",
       "    <tr style=\"text-align: right;\">\n",
       "      <th></th>\n",
       "      <th>gid</th>\n",
       "      <th>UF</th>\n",
       "      <th>nome</th>\n",
       "      <th>Censo</th>\n",
       "      <th>PIB</th>\n",
       "      <th>Pop_est_2009</th>\n",
       "      <th>PIB_percapita</th>\n",
       "      <th>geometry</th>\n",
       "      <th>POP_TOT</th>\n",
       "      <th>Pessoas_Pretas</th>\n",
       "      <th>PER_Pessoas_Pretas</th>\n",
       "    </tr>\n",
       "  </thead>\n",
       "  <tbody>\n",
       "    <tr>\n",
       "      <th>0</th>\n",
       "      <td>254</td>\n",
       "      <td>SERGIPE</td>\n",
       "      <td>Arauá</td>\n",
       "      <td>2010</td>\n",
       "      <td>63633.420</td>\n",
       "      <td>12042.0</td>\n",
       "      <td>5284.29</td>\n",
       "      <td>MULTIPOLYGON (((-37.50771009 -11.27150952, -37...</td>\n",
       "      <td>10878.0</td>\n",
       "      <td>1525</td>\n",
       "      <td>14.019121</td>\n",
       "    </tr>\n",
       "    <tr>\n",
       "      <th>1</th>\n",
       "      <td>1076</td>\n",
       "      <td>GOIÁS</td>\n",
       "      <td>Abadia De Goiás</td>\n",
       "      <td>2010</td>\n",
       "      <td>38975.133</td>\n",
       "      <td>6301.0</td>\n",
       "      <td>6185.55</td>\n",
       "      <td>MULTIPOLYGON (((-49.4433195 -16.72349495, -49....</td>\n",
       "      <td>6876.0</td>\n",
       "      <td>405</td>\n",
       "      <td>5.890052</td>\n",
       "    </tr>\n",
       "    <tr>\n",
       "      <th>2</th>\n",
       "      <td>2687</td>\n",
       "      <td>MINAS GERAIS</td>\n",
       "      <td>Abadia Dos Dourados</td>\n",
       "      <td>2010</td>\n",
       "      <td>71222.170</td>\n",
       "      <td>6805.0</td>\n",
       "      <td>10466.15</td>\n",
       "      <td>MULTIPOLYGON (((-47.42610987 -18.16379816, -47...</td>\n",
       "      <td>6704.0</td>\n",
       "      <td>292</td>\n",
       "      <td>4.355608</td>\n",
       "    </tr>\n",
       "    <tr>\n",
       "      <th>3</th>\n",
       "      <td>1077</td>\n",
       "      <td>GOIÁS</td>\n",
       "      <td>Abadiânia</td>\n",
       "      <td>2010</td>\n",
       "      <td>82400.490</td>\n",
       "      <td>13378.0</td>\n",
       "      <td>6159.40</td>\n",
       "      <td>MULTIPOLYGON (((-48.79593567 -16.01553113, -48...</td>\n",
       "      <td>15757.0</td>\n",
       "      <td>664</td>\n",
       "      <td>4.214000</td>\n",
       "    </tr>\n",
       "    <tr>\n",
       "      <th>4</th>\n",
       "      <td>2138</td>\n",
       "      <td>PARÁ</td>\n",
       "      <td>Abaetetuba</td>\n",
       "      <td>2010</td>\n",
       "      <td>456256.940</td>\n",
       "      <td>139819.0</td>\n",
       "      <td>3263.20</td>\n",
       "      <td>MULTIPOLYGON (((-48.80042608 -1.60628755, -48....</td>\n",
       "      <td>141100.0</td>\n",
       "      <td>9038</td>\n",
       "      <td>6.405386</td>\n",
       "    </tr>\n",
       "  </tbody>\n",
       "</table>\n",
       "</div>"
      ],
      "text/plain": [
       "    gid            UF                 nome Censo         PIB  Pop_est_2009  \\\n",
       "0   254       SERGIPE                Arauá  2010   63633.420       12042.0   \n",
       "1  1076         GOIÁS      Abadia De Goiás  2010   38975.133        6301.0   \n",
       "2  2687  MINAS GERAIS  Abadia Dos Dourados  2010   71222.170        6805.0   \n",
       "3  1077         GOIÁS            Abadiânia  2010   82400.490       13378.0   \n",
       "4  2138          PARÁ           Abaetetuba  2010  456256.940      139819.0   \n",
       "\n",
       "   PIB_percapita                                           geometry   POP_TOT  \\\n",
       "0        5284.29  MULTIPOLYGON (((-37.50771009 -11.27150952, -37...   10878.0   \n",
       "1        6185.55  MULTIPOLYGON (((-49.4433195 -16.72349495, -49....    6876.0   \n",
       "2       10466.15  MULTIPOLYGON (((-47.42610987 -18.16379816, -47...    6704.0   \n",
       "3        6159.40  MULTIPOLYGON (((-48.79593567 -16.01553113, -48...   15757.0   \n",
       "4        3263.20  MULTIPOLYGON (((-48.80042608 -1.60628755, -48....  141100.0   \n",
       "\n",
       "   Pessoas_Pretas  PER_Pessoas_Pretas  \n",
       "0            1525           14.019121  \n",
       "1             405            5.890052  \n",
       "2             292            4.355608  \n",
       "3             664            4.214000  \n",
       "4            9038            6.405386  "
      ]
     },
     "execution_count": 11,
     "metadata": {},
     "output_type": "execute_result"
    }
   ],
   "source": [
    "racial = racial.drop(racial.columns[[1,2,3,7]], axis=1) #retirando colunas iguais\n",
    "merge = pd.merge(pib, racial, how='outer', on='gid')\n",
    "merge.head()"
   ]
  },
  {
   "cell_type": "markdown",
   "metadata": {},
   "source": [
    "## Analisando os dados"
   ]
  },
  {
   "cell_type": "code",
   "execution_count": 13,
   "metadata": {},
   "outputs": [],
   "source": [
    "merge['PIB_percapita'] = merge['PIB_percapita'].astype(float)\n",
    "merge['Pop_est_2009'] = merge['Pop_est_2009'].astype(float)\n",
    "merge['PER_Pessoas_Pretas'] = merge['PER_Pessoas_Pretas'].astype(float)"
   ]
  },
  {
   "cell_type": "code",
   "execution_count": 14,
   "metadata": {},
   "outputs": [
    {
     "data": {
      "text/html": [
       "<div>\n",
       "<style scoped>\n",
       "    .dataframe tbody tr th:only-of-type {\n",
       "        vertical-align: middle;\n",
       "    }\n",
       "\n",
       "    .dataframe tbody tr th {\n",
       "        vertical-align: top;\n",
       "    }\n",
       "\n",
       "    .dataframe thead th {\n",
       "        text-align: right;\n",
       "    }\n",
       "</style>\n",
       "<table border=\"1\" class=\"dataframe\">\n",
       "  <thead>\n",
       "    <tr style=\"text-align: right;\">\n",
       "      <th></th>\n",
       "      <th>PIB</th>\n",
       "      <th>Pop_est_2009</th>\n",
       "      <th>PIB_percapita</th>\n",
       "      <th>PER_Pessoas_Pretas</th>\n",
       "    </tr>\n",
       "  </thead>\n",
       "  <tbody>\n",
       "    <tr>\n",
       "      <th>mean</th>\n",
       "      <td>582020.311889</td>\n",
       "      <td>34405.572763</td>\n",
       "      <td>10977.027145</td>\n",
       "      <td>6.410117</td>\n",
       "    </tr>\n",
       "    <tr>\n",
       "      <th>median</th>\n",
       "      <td>80591.720000</td>\n",
       "      <td>11203.000000</td>\n",
       "      <td>8393.170000</td>\n",
       "      <td>5.175179</td>\n",
       "    </tr>\n",
       "  </tbody>\n",
       "</table>\n",
       "</div>"
      ],
      "text/plain": [
       "                  PIB  Pop_est_2009  PIB_percapita  PER_Pessoas_Pretas\n",
       "mean    582020.311889  34405.572763   10977.027145            6.410117\n",
       "median   80591.720000  11203.000000    8393.170000            5.175179"
      ]
     },
     "execution_count": 14,
     "metadata": {},
     "output_type": "execute_result"
    }
   ],
   "source": [
    "merge[['PIB', 'Pop_est_2009', 'PIB_percapita', 'PER_Pessoas_Pretas']].agg(['mean', 'median'])"
   ]
  },
  {
   "cell_type": "markdown",
   "metadata": {},
   "source": [
    "## Plotando os dados"
   ]
  },
  {
   "cell_type": "code",
   "execution_count": 15,
   "metadata": {},
   "outputs": [
    {
     "data": {
      "text/plain": [
       "<AxesSubplot:>"
      ]
     },
     "execution_count": 15,
     "metadata": {},
     "output_type": "execute_result"
    },
    {
     "data": {
      "image/png": "[encoded data removed]",
      "text/plain": [
       "<Figure size 1080x576 with 1 Axes>"
      ]
     },
     "metadata": {
      "needs_background": "light"
     },
     "output_type": "display_data"
    }
   ],
   "source": [
    "merge.plot(color='green', edgecolor='None', figsize=(15,8))"
   ]
  },
  {
   "cell_type": "code",
   "execution_count": null,
   "metadata": {},
   "outputs": [],
   "source": []
  }
 ],
 "metadata": {
  "kernelspec": {
   "display_name": "Python 3",
   "language": "python",
   "name": "python3"
  },
  "language_info": {
   "codemirror_mode": {
    "name": "ipython",
    "version": 3
   },
   "file_extension": ".py",
   "mimetype": "text/x-python",
   "name": "python",
   "nbconvert_exporter": "python",
   "pygments_lexer": "ipython3",
   "version": "3.8.5"
  }
 },
 "nbformat": 4,
 "nbformat_minor": 4
}
