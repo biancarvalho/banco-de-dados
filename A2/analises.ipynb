{
 "cells": [
  {
   "cell_type": "code",
   "execution_count": 1,
   "metadata": {},
   "outputs": [],
   "source": [
    "import geopandas as gpd\n",
    "import pandas as pd\n",
    "import sqlite3\n",
    "import os"
   ]
  },
  {
   "cell_type": "markdown",
   "metadata": {},
   "source": [
    "# Importando os bancos de dados"
   ]
  },
  {
   "cell_type": "code",
   "execution_count": 2,
   "metadata": {},
   "outputs": [
    {
     "data": {
      "text/html": [
       "<div>\n",
       "<style scoped>\n",
       "    .dataframe tbody tr th:only-of-type {\n",
       "        vertical-align: middle;\n",
       "    }\n",
       "\n",
       "    .dataframe tbody tr th {\n",
       "        vertical-align: top;\n",
       "    }\n",
       "\n",
       "    .dataframe thead th {\n",
       "        text-align: right;\n",
       "    }\n",
       "</style>\n",
       "<table border=\"1\" class=\"dataframe\">\n",
       "  <thead>\n",
       "    <tr style=\"text-align: right;\">\n",
       "      <th></th>\n",
       "      <th>index</th>\n",
       "      <th>id</th>\n",
       "      <th>gid</th>\n",
       "      <th>UF</th>\n",
       "      <th>nome</th>\n",
       "      <th>Censo</th>\n",
       "      <th>PIB</th>\n",
       "      <th>Pop_est_2009</th>\n",
       "      <th>PIB_percapita</th>\n",
       "      <th>legenda</th>\n",
       "      <th>classe</th>\n",
       "      <th>geometry</th>\n",
       "    </tr>\n",
       "  </thead>\n",
       "  <tbody>\n",
       "    <tr>\n",
       "      <th>0</th>\n",
       "      <td>0</td>\n",
       "      <td>vw_pib_percapita.fid-2e5b397f_17cf1b12db8_-5754</td>\n",
       "      <td>215</td>\n",
       "      <td>BAHIA</td>\n",
       "      <td>Tremedal</td>\n",
       "      <td>2010</td>\n",
       "      <td>57883.992</td>\n",
       "      <td>18433.0</td>\n",
       "      <td>3140.24</td>\n",
       "      <td>- 9639.65</td>\n",
       "      <td>1</td>\n",
       "      <td>MULTIPOLYGON (((-41.45880331 -14.78141546, -41...</td>\n",
       "    </tr>\n",
       "  </tbody>\n",
       "</table>\n",
       "</div>"
      ],
      "text/plain": [
       "   index                                               id  gid     UF  \\\n",
       "0      0  vw_pib_percapita.fid-2e5b397f_17cf1b12db8_-5754  215  BAHIA   \n",
       "\n",
       "       nome Censo        PIB  Pop_est_2009  PIB_percapita     legenda  classe  \\\n",
       "0  Tremedal  2010  57883.992       18433.0        3140.24   - 9639.65       1   \n",
       "\n",
       "                                            geometry  \n",
       "0  MULTIPOLYGON (((-41.45880331 -14.78141546, -41...  "
      ]
     },
     "execution_count": 2,
     "metadata": {},
     "output_type": "execute_result"
    }
   ],
   "source": [
    "conn = sqlite3.connect(os.path.join('pib.db'))\n",
    "query= \"SELECT * FROM pib\"\n",
    "pib_df = pd.read_sql(query,conn)\n",
    "conn.close()\n",
    "pib=pib_df.copy()\n",
    "pib_df.head(1)"
   ]
  },
  {
   "cell_type": "code",
   "execution_count": 3,
   "metadata": {},
   "outputs": [
    {
     "data": {
      "text/html": [
       "<div>\n",
       "<style scoped>\n",
       "    .dataframe tbody tr th:only-of-type {\n",
       "        vertical-align: middle;\n",
       "    }\n",
       "\n",
       "    .dataframe tbody tr th {\n",
       "        vertical-align: top;\n",
       "    }\n",
       "\n",
       "    .dataframe thead th {\n",
       "        text-align: right;\n",
       "    }\n",
       "</style>\n",
       "<table border=\"1\" class=\"dataframe\">\n",
       "  <thead>\n",
       "    <tr style=\"text-align: right;\">\n",
       "      <th></th>\n",
       "      <th>index</th>\n",
       "      <th>id</th>\n",
       "      <th>gid</th>\n",
       "      <th>UF</th>\n",
       "      <th>nome</th>\n",
       "      <th>Censo</th>\n",
       "      <th>POP_TOT</th>\n",
       "      <th>Pessoas_Pretas</th>\n",
       "      <th>PER_Pessoas_Pretas</th>\n",
       "      <th>descricao</th>\n",
       "      <th>legenda</th>\n",
       "      <th>classe</th>\n",
       "      <th>geometry</th>\n",
       "    </tr>\n",
       "  </thead>\n",
       "  <tbody>\n",
       "    <tr>\n",
       "      <th>0</th>\n",
       "      <td>0</td>\n",
       "      <td>vw_per_pessoas_pretas.fid-60efe8e1_17d582643c1...</td>\n",
       "      <td>215</td>\n",
       "      <td>BAHIA</td>\n",
       "      <td>Tremedal</td>\n",
       "      <td>2010</td>\n",
       "      <td>17029.0</td>\n",
       "      <td>827</td>\n",
       "      <td>4.856421</td>\n",
       "      <td>Percentual de pessoas residentes de cor ou raç...</td>\n",
       "      <td>4,22% - 7,79%</td>\n",
       "      <td>2</td>\n",
       "      <td>MULTIPOLYGON (((-41.45880331 -14.78141546, -41...</td>\n",
       "    </tr>\n",
       "  </tbody>\n",
       "</table>\n",
       "</div>"
      ],
      "text/plain": [
       "   index                                                 id  gid     UF  \\\n",
       "0      0  vw_per_pessoas_pretas.fid-60efe8e1_17d582643c1...  215  BAHIA   \n",
       "\n",
       "       nome Censo  POP_TOT  Pessoas_Pretas  PER_Pessoas_Pretas  \\\n",
       "0  Tremedal  2010  17029.0             827            4.856421   \n",
       "\n",
       "                                           descricao        legenda  classe  \\\n",
       "0  Percentual de pessoas residentes de cor ou raç...  4,22% - 7,79%       2   \n",
       "\n",
       "                                            geometry  \n",
       "0  MULTIPOLYGON (((-41.45880331 -14.78141546, -41...  "
      ]
     },
     "execution_count": 3,
     "metadata": {},
     "output_type": "execute_result"
    }
   ],
   "source": [
    "conn = sqlite3.connect(os.path.join('racial.db'))\n",
    "query= \"SELECT * FROM racial\"\n",
    "racial_df = pd.read_sql(query,conn)\n",
    "conn.close()\n",
    "racial=racial_df.copy()\n",
    "racial_df.head(1)"
   ]
  },
  {
   "cell_type": "markdown",
   "metadata": {},
   "source": [
    "### Transformando os DataFrames para o tipo GeoDataFrame"
   ]
  },
  {
   "cell_type": "code",
   "execution_count": 4,
   "metadata": {
    "tags": []
   },
   "outputs": [
    {
     "ename": "AttributeError",
     "evalue": "type object 'GeoSeries' has no attribute 'from_wkt'",
     "output_type": "error",
     "traceback": [
      "\u001b[1;31m---------------------------------------------------------------------------\u001b[0m",
      "\u001b[1;31mAttributeError\u001b[0m                            Traceback (most recent call last)",
      "\u001b[1;32m<ipython-input-4-b98815c89851>\u001b[0m in \u001b[0;36m<module>\u001b[1;34m\u001b[0m\n\u001b[1;32m----> 1\u001b[1;33m \u001b[0mpib\u001b[0m\u001b[1;33m[\u001b[0m\u001b[1;34m'geometry'\u001b[0m\u001b[1;33m]\u001b[0m\u001b[1;33m=\u001b[0m\u001b[0mgpd\u001b[0m\u001b[1;33m.\u001b[0m\u001b[0mGeoSeries\u001b[0m\u001b[1;33m.\u001b[0m\u001b[0mfrom_wkt\u001b[0m\u001b[1;33m(\u001b[0m\u001b[0mpib_df\u001b[0m\u001b[1;33m[\u001b[0m\u001b[1;34m'geometry'\u001b[0m\u001b[1;33m]\u001b[0m\u001b[1;33m)\u001b[0m\u001b[1;33m\u001b[0m\u001b[1;33m\u001b[0m\u001b[0m\n\u001b[0m\u001b[0;32m      2\u001b[0m \u001b[0mpib\u001b[0m \u001b[1;33m=\u001b[0m \u001b[0mgpd\u001b[0m\u001b[1;33m.\u001b[0m\u001b[0mGeoDataFrame\u001b[0m\u001b[1;33m(\u001b[0m\u001b[0mpib\u001b[0m\u001b[1;33m,\u001b[0m \u001b[0mgeometry\u001b[0m\u001b[1;33m=\u001b[0m\u001b[1;34m'geometry'\u001b[0m\u001b[1;33m)\u001b[0m\u001b[1;33m\u001b[0m\u001b[1;33m\u001b[0m\u001b[0m\n\u001b[0;32m      3\u001b[0m \u001b[0mpib\u001b[0m\u001b[1;33m.\u001b[0m\u001b[0mhead\u001b[0m\u001b[1;33m(\u001b[0m\u001b[1;36m1\u001b[0m\u001b[1;33m)\u001b[0m\u001b[1;33m\u001b[0m\u001b[1;33m\u001b[0m\u001b[0m\n",
      "\u001b[1;31mAttributeError\u001b[0m: type object 'GeoSeries' has no attribute 'from_wkt'"
     ]
    }
   ],
   "source": [
    "pib['geometry']=gpd.GeoSeries.from_wkt(pib_df['geometry'])\n",
    "pib = gpd.GeoDataFrame(pib, geometry='geometry')\n",
    "pib.head(1)"
   ]
  },
  {
   "cell_type": "code",
   "execution_count": null,
   "metadata": {
    "tags": []
   },
   "outputs": [],
   "source": [
    "racial['geometry']=gpd.GeoSeries.from_wkt(racial['geometry'])\n",
    "racial = gpd.GeoDataFrame(racial, geometry='geometry')\n",
    "racial.head(1)"
   ]
  },
  {
   "cell_type": "markdown",
   "metadata": {},
   "source": [
    "## Tratando os dados"
   ]
  },
  {
   "cell_type": "code",
   "execution_count": null,
   "metadata": {},
   "outputs": [],
   "source": [
    "pib = pib.sort_values('nome')\n",
    "pib['nome'] = pib['nome'].str.title()\n",
    "pib.head(2)"
   ]
  },
  {
   "cell_type": "code",
   "execution_count": null,
   "metadata": {
    "tags": []
   },
   "outputs": [],
   "source": [
    "racial = racial.sort_values('nome')\n",
    "racial['nome'] = racial['nome'].str.title()\n",
    "racial.head(2)"
   ]
  },
  {
   "cell_type": "markdown",
   "metadata": {},
   "source": [
    "### Unindo os Dataframes sobre o PIB e a população negra"
   ]
  },
  {
   "cell_type": "code",
   "execution_count": null,
   "metadata": {
    "tags": []
   },
   "outputs": [],
   "source": [
    "racial_dfn = racial_df.drop(racial_df.columns[[0,1,3,4,5,9,12]], axis=1) #retirando colunas iguais\n",
    "merge = pd.merge(pib_df, racial_dfn, how='outer', on='gid')"
   ]
  },
  {
   "cell_type": "markdown",
   "metadata": {},
   "source": [
    "Transformando em GeoDataFrame"
   ]
  },
  {
   "cell_type": "code",
   "execution_count": null,
   "metadata": {},
   "outputs": [],
   "source": [
    "merge['geometry']=gpd.GeoSeries.from_wkt(merge['geometry'])\n",
    "merge = gpd.GeoDataFrame(merge, geometry='geometry')\n",
    "merge.head(1)"
   ]
  },
  {
   "cell_type": "markdown",
   "metadata": {
    "tags": []
   },
   "source": [
    "## Analisando os dados"
   ]
  },
  {
   "cell_type": "code",
   "execution_count": null,
   "metadata": {},
   "outputs": [],
   "source": [
    "merge['PIB_percapita'] = merge['PIB_percapita'].astype(float)\n",
    "merge['Pop_est_2009'] = merge['Pop_est_2009'].astype(float)\n",
    "merge['PER_Pessoas_Pretas'] = merge['PER_Pessoas_Pretas'].astype(float)"
   ]
  },
  {
   "cell_type": "code",
   "execution_count": null,
   "metadata": {},
   "outputs": [],
   "source": [
    "merge[['PIB', 'Pop_est_2009', 'PIB_percapita', 'PER_Pessoas_Pretas']].agg(['mean', 'median'])"
   ]
  },
  {
   "cell_type": "markdown",
   "metadata": {},
   "source": [
    "## Plotando os dados"
   ]
  },
  {
   "cell_type": "code",
   "execution_count": null,
   "metadata": {},
   "outputs": [],
   "source": [
    "merge.plot(color='green', edgecolor='None', figsize=(15,8))"
   ]
  },
  {
   "cell_type": "code",
   "execution_count": null,
   "metadata": {},
   "outputs": [],
   "source": []
  }
 ],
 "metadata": {
  "kernelspec": {
   "display_name": "Python 3",
   "language": "python",
   "name": "python3"
  },
  "language_info": {
   "codemirror_mode": {
    "name": "ipython",
    "version": 3
   },
   "file_extension": ".py",
   "mimetype": "text/x-python",
   "name": "python",
   "nbconvert_exporter": "python",
   "pygments_lexer": "ipython3",
   "version": "3.8.5"
  }
 },
 "nbformat": 4,
 "nbformat_minor": 4
}
