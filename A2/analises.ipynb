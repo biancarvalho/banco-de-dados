{
 "cells": [
  {
   "cell_type": "code",
   "execution_count": 1,
   "metadata": {},
   "outputs": [],
   "source": [
    "import geopandas as gpd\n",
    "import pandas as pd\n",
    "import sqlite3\n",
    "import os"
   ]
  },
  {
   "cell_type": "markdown",
   "metadata": {},
   "source": [
    "# Importando os bancos de dados"
   ]
  },
  {
   "cell_type": "code",
   "execution_count": 2,
   "metadata": {},
   "outputs": [
    {
     "data": {
      "text/plain": [
       "pandas.core.frame.DataFrame"
      ]
     },
     "execution_count": 2,
     "metadata": {},
     "output_type": "execute_result"
    }
   ],
   "source": [
    "conn = sqlite3.connect(os.path.join('brasil.db'))\n",
    "br = pd.read_sql('SELECT id, name, geometry FROM brasil', conn)\n",
    "type(br)"
   ]
  },
  {
   "cell_type": "code",
   "execution_count": 3,
   "metadata": {},
   "outputs": [
    {
     "data": {
      "text/plain": [
       "pandas.core.frame.DataFrame"
      ]
     },
     "execution_count": 3,
     "metadata": {},
     "output_type": "execute_result"
    }
   ],
   "source": [
    "conn1 = sqlite3.connect(os.path.join('pib.db'))\n",
    "pib = pd.read_sql('SELECT UF, nome, Censo, PIB, Pop_est_2009, PIB_percapita, classe, geometry FROM pib', conn1)\n",
    "type(pib)"
   ]
  },
  {
   "cell_type": "markdown",
   "metadata": {},
   "source": [
    "### Transformando os DataFrames para o tipo GeoDataFrame"
   ]
  },
  {
   "cell_type": "code",
   "execution_count": 9,
   "metadata": {},
   "outputs": [
    {
     "data": {
      "text/plain": [
       "geopandas.geodataframe.GeoDataFrame"
      ]
     },
     "execution_count": 9,
     "metadata": {},
     "output_type": "execute_result"
    }
   ],
   "source": [
    "br = gpd.GeoDataFrame(br)\n",
    "br.head()\n",
    "type(br)"
   ]
  },
  {
   "cell_type": "code",
   "execution_count": 5,
   "metadata": {},
   "outputs": [
    {
     "data": {
      "text/html": [
       "<div>\n",
       "<style scoped>\n",
       "    .dataframe tbody tr th:only-of-type {\n",
       "        vertical-align: middle;\n",
       "    }\n",
       "\n",
       "    .dataframe tbody tr th {\n",
       "        vertical-align: top;\n",
       "    }\n",
       "\n",
       "    .dataframe thead th {\n",
       "        text-align: right;\n",
       "    }\n",
       "</style>\n",
       "<table border=\"1\" class=\"dataframe\">\n",
       "  <thead>\n",
       "    <tr style=\"text-align: right;\">\n",
       "      <th></th>\n",
       "      <th>UF</th>\n",
       "      <th>nome</th>\n",
       "      <th>Censo</th>\n",
       "      <th>PIB</th>\n",
       "      <th>Pop_est_2009</th>\n",
       "      <th>PIB_percapita</th>\n",
       "      <th>classe</th>\n",
       "      <th>geometry</th>\n",
       "    </tr>\n",
       "  </thead>\n",
       "  <tbody>\n",
       "    <tr>\n",
       "      <th>0</th>\n",
       "      <td>BAHIA</td>\n",
       "      <td>Tremedal</td>\n",
       "      <td>2010</td>\n",
       "      <td>5.788399e+04</td>\n",
       "      <td>18433.0</td>\n",
       "      <td>3140.24</td>\n",
       "      <td>1</td>\n",
       "      <td>MULTIPOLYGON (((-41.45880331 -14.78141546, -41...</td>\n",
       "    </tr>\n",
       "    <tr>\n",
       "      <th>1</th>\n",
       "      <td>RIO GRANDE DO SUL</td>\n",
       "      <td>Turuçu</td>\n",
       "      <td>2010</td>\n",
       "      <td>4.572388e+04</td>\n",
       "      <td>4000.0</td>\n",
       "      <td>11430.97</td>\n",
       "      <td>2</td>\n",
       "      <td>MULTIPOLYGON (((-52.03534993 -31.56750961, -52...</td>\n",
       "    </tr>\n",
       "    <tr>\n",
       "      <th>2</th>\n",
       "      <td>ESPIRITO SANTO</td>\n",
       "      <td>Vitória</td>\n",
       "      <td>2010</td>\n",
       "      <td>1.978263e+07</td>\n",
       "      <td>320156.0</td>\n",
       "      <td>61790.59</td>\n",
       "      <td>4</td>\n",
       "      <td>MULTIPOLYGON Z (((-40.3292567 -20.23997418 0, ...</td>\n",
       "    </tr>\n",
       "    <tr>\n",
       "      <th>3</th>\n",
       "      <td>MINAS GERAIS</td>\n",
       "      <td>Jacutinga</td>\n",
       "      <td>2010</td>\n",
       "      <td>2.478160e+05</td>\n",
       "      <td>21424.0</td>\n",
       "      <td>11567.21</td>\n",
       "      <td>2</td>\n",
       "      <td>MULTIPOLYGON (((-46.5052816 -22.34001209, -46....</td>\n",
       "    </tr>\n",
       "    <tr>\n",
       "      <th>4</th>\n",
       "      <td>PIAUÍ</td>\n",
       "      <td>Nazária</td>\n",
       "      <td>2010</td>\n",
       "      <td>2.095138e+04</td>\n",
       "      <td>7895.0</td>\n",
       "      <td>2653.75</td>\n",
       "      <td>1</td>\n",
       "      <td>POLYGON Z ((-42.82668541 -5.34802917 0, -42.82...</td>\n",
       "    </tr>\n",
       "  </tbody>\n",
       "</table>\n",
       "</div>"
      ],
      "text/plain": [
       "                  UF       nome Censo           PIB  Pop_est_2009  \\\n",
       "0              BAHIA   Tremedal  2010  5.788399e+04       18433.0   \n",
       "1  RIO GRANDE DO SUL     Turuçu  2010  4.572388e+04        4000.0   \n",
       "2     ESPIRITO SANTO    Vitória  2010  1.978263e+07      320156.0   \n",
       "3       MINAS GERAIS  Jacutinga  2010  2.478160e+05       21424.0   \n",
       "4              PIAUÍ    Nazária  2010  2.095138e+04        7895.0   \n",
       "\n",
       "   PIB_percapita  classe                                           geometry  \n",
       "0        3140.24       1  MULTIPOLYGON (((-41.45880331 -14.78141546, -41...  \n",
       "1       11430.97       2  MULTIPOLYGON (((-52.03534993 -31.56750961, -52...  \n",
       "2       61790.59       4  MULTIPOLYGON Z (((-40.3292567 -20.23997418 0, ...  \n",
       "3       11567.21       2  MULTIPOLYGON (((-46.5052816 -22.34001209, -46....  \n",
       "4        2653.75       1  POLYGON Z ((-42.82668541 -5.34802917 0, -42.82...  "
      ]
     },
     "execution_count": 5,
     "metadata": {},
     "output_type": "execute_result"
    }
   ],
   "source": [
    "pib = gpd.GeoDataFrame(pib)\n",
    "pib.head()"
   ]
  },
  {
   "cell_type": "markdown",
   "metadata": {},
   "source": [
    "## Tratando os dados"
   ]
  },
  {
   "cell_type": "markdown",
   "metadata": {},
   "source": [
    "## Plotando os dados"
   ]
  },
  {
   "cell_type": "code",
   "execution_count": 10,
   "metadata": {},
   "outputs": [
    {
     "data": {
      "text/plain": [
       "<AxesSubplot:>"
      ]
     },
     "execution_count": 10,
     "metadata": {},
     "output_type": "execute_result"
    },
    {
     "data": {
      "image/png": "[encoded data removed]",
      "text/plain": [
       "<Figure size 1080x576 with 1 Axes>"
      ]
     },
     "metadata": {
      "needs_background": "light"
     },
     "output_type": "display_data"
    }
   ],
   "source": [
    "br.plot(color='green', edgecolor='None', figsize=(15,8))"
   ]
  },
  {
   "cell_type": "code",
   "execution_count": null,
   "metadata": {},
   "outputs": [],
   "source": []
  }
 ],
 "metadata": {
  "kernelspec": {
   "display_name": "Python 3",
   "language": "python",
   "name": "python3"
  },
  "language_info": {
   "codemirror_mode": {
    "name": "ipython",
    "version": 3
   },
   "file_extension": ".py",
   "mimetype": "text/x-python",
   "name": "python",
   "nbconvert_exporter": "python",
   "pygments_lexer": "ipython3",
   "version": "3.8.5"
  }
 },
 "nbformat": 4,
 "nbformat_minor": 4
}
