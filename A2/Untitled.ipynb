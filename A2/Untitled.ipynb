{
 "cells": [
  {
   "cell_type": "code",
   "execution_count": 3,
   "metadata": {},
   "outputs": [],
   "source": [
    "import os\n",
    "import sys\n",
    "import numpy as np\n",
    "import pandas as pd\n",
    "\n",
    "import sqlite3\n",
    "import json\n",
    "import urllib.request"
   ]
  },
  {
   "cell_type": "code",
   "execution_count": 7,
   "metadata": {},
   "outputs": [],
   "source": [
    "conn = sqlite3.connect('pib.db')\n",
    "cur = conn.cursor()"
   ]
  },
  {
   "cell_type": "code",
   "execution_count": 15,
   "metadata": {},
   "outputs": [],
   "source": [
    "with open(\"C:\\\\Users\\\\Bia\\\\git\\\\banco-de-dados\\\\A2\\\\pib.json\", encoding=\"utf-8-sig\") as json_file:\n",
    "    json_data = json.loads(json_file.read())"
   ]
  },
  {
   "cell_type": "code",
   "execution_count": 24,
   "metadata": {},
   "outputs": [
    {
     "data": {
      "text/plain": [
       "<sqlite3.Cursor at 0x253da4ada40>"
      ]
     },
     "execution_count": 24,
     "metadata": {},
     "output_type": "execute_result"
    }
   ],
   "source": [
    "conn.execute(f'CREATE TABLE pib (id varchar(3), data json)')"
   ]
  },
  {
   "cell_type": "code",
   "execution_count": 34,
   "metadata": {},
   "outputs": [],
   "source": [
    "for record in json_data['features']:\n",
    "    conn.execute(f'insert into pib values (?,?)', [record['id'],json.dumps(record)])"
   ]
  },
  {
   "cell_type": "code",
   "execution_count": 35,
   "metadata": {},
   "outputs": [
    {
     "name": "stdout",
     "output_type": "stream",
     "text": [
      "                                                id  \\\n",
      "0  vw_pib_percapita.fid-2e5b397f_17cf1b12db8_-5754   \n",
      "1  vw_pib_percapita.fid-2e5b397f_17cf1b12db8_-5753   \n",
      "2  vw_pib_percapita.fid-2e5b397f_17cf1b12db8_-5752   \n",
      "3  vw_pib_percapita.fid-2e5b397f_17cf1b12db8_-5751   \n",
      "4  vw_pib_percapita.fid-2e5b397f_17cf1b12db8_-5750   \n",
      "\n",
      "                                                data  \n",
      "0  {\"type\": \"Feature\", \"id\": \"vw_pib_percapita.fi...  \n",
      "1  {\"type\": \"Feature\", \"id\": \"vw_pib_percapita.fi...  \n",
      "2  {\"type\": \"Feature\", \"id\": \"vw_pib_percapita.fi...  \n",
      "3  {\"type\": \"Feature\", \"id\": \"vw_pib_percapita.fi...  \n",
      "4  {\"type\": \"Feature\", \"id\": \"vw_pib_percapita.fi...  \n"
     ]
    }
   ],
   "source": [
    "df = pd.read_sql_query('SELECT * from pib', conn)\n",
    "\n",
    "print(df.head())"
   ]
  },
  {
   "cell_type": "code",
   "execution_count": null,
   "metadata": {},
   "outputs": [],
   "source": []
  }
 ],
 "metadata": {
  "kernelspec": {
   "display_name": "Python 3",
   "language": "python",
   "name": "python3"
  },
  "language_info": {
   "codemirror_mode": {
    "name": "ipython",
    "version": 3
   },
   "file_extension": ".py",
   "mimetype": "text/x-python",
   "name": "python",
   "nbconvert_exporter": "python",
   "pygments_lexer": "ipython3",
   "version": "3.8.5"
  }
 },
 "nbformat": 4,
 "nbformat_minor": 4
}
